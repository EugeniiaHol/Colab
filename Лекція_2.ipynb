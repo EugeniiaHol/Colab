{
  "nbformat": 4,
  "nbformat_minor": 0,
  "metadata": {
    "colab": {
      "provenance": [],
      "authorship_tag": "ABX9TyNqJxXwhf0OWjwikQUtDeop",
      "include_colab_link": true
    },
    "kernelspec": {
      "name": "python3",
      "display_name": "Python 3"
    },
    "language_info": {
      "name": "python"
    }
  },
  "cells": [
    {
      "cell_type": "markdown",
      "metadata": {
        "id": "view-in-github",
        "colab_type": "text"
      },
      "source": [
        "<a href=\"https://colab.research.google.com/github/EugeniiaHol/Colab/blob/main/%D0%9B%D0%B5%D0%BA%D1%86%D1%96%D1%8F_2.ipynb\" target=\"_parent\"><img src=\"https://colab.research.google.com/assets/colab-badge.svg\" alt=\"Open In Colab\"/></a>"
      ]
    },
    {
      "cell_type": "markdown",
      "source": [
        "Найпрстіші алгоритми"
      ],
      "metadata": {
        "id": "psJiOZ_dXdB_"
      }
    },
    {
      "cell_type": "code",
      "source": [
        "T=5\n",
        "T=9\n",
        "T"
      ],
      "metadata": {
        "colab": {
          "base_uri": "https://localhost:8080/"
        },
        "id": "Bjo2xz2pnFV8",
        "outputId": "a5c61dfc-e75e-436a-d1e5-6ddc3f39dbd4"
      },
      "execution_count": null,
      "outputs": [
        {
          "output_type": "execute_result",
          "data": {
            "text/plain": [
              "9"
            ]
          },
          "metadata": {},
          "execution_count": 5
        }
      ]
    },
    {
      "cell_type": "code",
      "source": [
        "# Введення даних\n",
        "x = input(\"Введіть число >0: \")\n",
        "x"
      ],
      "metadata": {
        "id": "StIeZ4ZxXkmy",
        "colab": {
          "base_uri": "https://localhost:8080/",
          "height": 53
        },
        "outputId": "2b7b2a7b-0d44-41f4-8d20-2e6ff7796408"
      },
      "execution_count": null,
      "outputs": [
        {
          "name": "stdout",
          "output_type": "stream",
          "text": [
            "Введіть число: 3\n"
          ]
        },
        {
          "output_type": "execute_result",
          "data": {
            "text/plain": [
              "'3'"
            ],
            "application/vnd.google.colaboratory.intrinsic+json": {
              "type": "string"
            }
          },
          "metadata": {},
          "execution_count": 8
        }
      ]
    },
    {
      "cell_type": "code",
      "source": [
        "# Виведення даних\n",
        "x = 10\n",
        "print(\"Значення:\", x)"
      ],
      "metadata": {
        "id": "MUZAHZILX0QW",
        "colab": {
          "base_uri": "https://localhost:8080/"
        },
        "outputId": "d3b9b9f6-3a6b-4988-ccd3-becd4ee1fa38"
      },
      "execution_count": null,
      "outputs": [
        {
          "output_type": "stream",
          "name": "stdout",
          "text": [
            "Значення: 10\n"
          ]
        }
      ]
    },
    {
      "cell_type": "code",
      "source": [
        "# Введення даних\n",
        "x = input(\"Введіть число: \")\n",
        "print(\"Значення:\", x)"
      ],
      "metadata": {
        "colab": {
          "base_uri": "https://localhost:8080/"
        },
        "id": "JpkTppifoIKb",
        "outputId": "ad402a19-3171-4999-c046-e891723b3aad"
      },
      "execution_count": null,
      "outputs": [
        {
          "output_type": "stream",
          "name": "stdout",
          "text": [
            "Введіть число: 5\n",
            "Значення: 5\n"
          ]
        }
      ]
    },
    {
      "cell_type": "code",
      "source": [
        "#  Заміна значення\n",
        "x = 5\n",
        "x = 20  # заміна значення\n",
        "print(x)"
      ],
      "metadata": {
        "id": "mv7qA4fwX-lO",
        "colab": {
          "base_uri": "https://localhost:8080/"
        },
        "outputId": "10bc3935-bad9-44c5-cc6f-ba51476e10ec"
      },
      "execution_count": null,
      "outputs": [
        {
          "output_type": "stream",
          "name": "stdout",
          "text": [
            "20\n"
          ]
        }
      ]
    },
    {
      "cell_type": "code",
      "source": [],
      "metadata": {
        "id": "w_5j1XPwo9uc"
      },
      "execution_count": null,
      "outputs": []
    },
    {
      "cell_type": "code",
      "source": [
        "# Обмін двох змінних\n",
        "a, b = 5, 10\n",
        "a, b = b, a  # обмін значень\n",
        "print(a, b)  # 10 5"
      ],
      "metadata": {
        "id": "RdiA_Iv8YJjh",
        "colab": {
          "base_uri": "https://localhost:8080/"
        },
        "outputId": "35e83ed6-8c25-4696-fe5e-e01a923a14a9"
      },
      "execution_count": null,
      "outputs": [
        {
          "output_type": "stream",
          "name": "stdout",
          "text": [
            "10 5\n"
          ]
        }
      ]
    },
    {
      "cell_type": "code",
      "source": [
        "# Перевірка умови\n",
        "x = int(input(\"Введіть число: \"))\n",
        "if x > 0:\n",
        "    print(\"Число додатне\")\n",
        "else:\n",
        "    print(\"Число не є додатним\")"
      ],
      "metadata": {
        "id": "fKO6qeRXYQh1"
      },
      "execution_count": null,
      "outputs": []
    },
    {
      "cell_type": "markdown",
      "source": [
        "**Математичні операції**"
      ],
      "metadata": {
        "id": "S8fJlHOlYjcz"
      }
    },
    {
      "cell_type": "code",
      "source": [
        "# Додавання\n",
        "a = 10 + 5\n",
        "print(f\"Додавання: 10 + 5 = {a}\")"
      ],
      "metadata": {
        "colab": {
          "base_uri": "https://localhost:8080/"
        },
        "id": "Gc9LFrZLrTVC",
        "outputId": "a6f82ba3-6701-4aa0-a8bd-59fefaa5479e"
      },
      "execution_count": null,
      "outputs": [
        {
          "output_type": "stream",
          "name": "stdout",
          "text": [
            "Додавання: 10 + 5 = 15\n"
          ]
        }
      ]
    },
    {
      "cell_type": "code",
      "source": [
        "# Віднімання\n",
        "b = 20 - 8\n",
        "print(f\"Віднімання: 20 - 8 = {b}\")"
      ],
      "metadata": {
        "colab": {
          "base_uri": "https://localhost:8080/"
        },
        "id": "llpIWu1YrXju",
        "outputId": "2f6070d7-4f71-4da1-fd27-2f7205306ed6"
      },
      "execution_count": null,
      "outputs": [
        {
          "output_type": "stream",
          "name": "stdout",
          "text": [
            "Віднімання: 20 - 8 = 12\n"
          ]
        }
      ]
    },
    {
      "cell_type": "code",
      "source": [
        "# Множення\n",
        "c = 6 * 4\n",
        "print(f\"Множення: 6 * 4 = {c}\")\n"
      ],
      "metadata": {
        "colab": {
          "base_uri": "https://localhost:8080/"
        },
        "id": "W8avT76hrbOh",
        "outputId": "6d563ba3-08d7-4eec-95fa-74a9a4ede669"
      },
      "execution_count": null,
      "outputs": [
        {
          "output_type": "stream",
          "name": "stdout",
          "text": [
            "Множення: 6 * 4 = 24\n"
          ]
        }
      ]
    },
    {
      "cell_type": "code",
      "source": [
        "# Ділення (результат - число з плаваючою крапкою)\n",
        "d = 15 / 5\n",
        "print(f\"Ділення: 15 / 3 = {d}\")"
      ],
      "metadata": {
        "colab": {
          "base_uri": "https://localhost:8080/"
        },
        "id": "IEaBoJYKrfQC",
        "outputId": "51f5726a-02b4-45b9-929a-774992d231bf"
      },
      "execution_count": null,
      "outputs": [
        {
          "output_type": "stream",
          "name": "stdout",
          "text": [
            "Ділення: 15 / 3 = 3.0\n"
          ]
        }
      ]
    },
    {
      "cell_type": "code",
      "source": [
        "#Цілочисельне ділення (без остачі)\n",
        "e = 17 // 3\n",
        "print(f\"Цілочисельне ділення: 17 // 3 = {e}\")"
      ],
      "metadata": {
        "colab": {
          "base_uri": "https://localhost:8080/"
        },
        "id": "4lo7uGzJrwNZ",
        "outputId": "25066ad6-c291-4898-8248-c162cbaaa3b3"
      },
      "execution_count": null,
      "outputs": [
        {
          "output_type": "stream",
          "name": "stdout",
          "text": [
            "Цілочисельне ділення: 17 // 3 = 5\n"
          ]
        }
      ]
    },
    {
      "cell_type": "code",
      "source": [
        "# Остача від ділення\n",
        "f = 17 % 3\n",
        "print(f\"Остача від ділення: 17 % 3 = {f}\")"
      ],
      "metadata": {
        "colab": {
          "base_uri": "https://localhost:8080/"
        },
        "id": "u0FD84f-sJWp",
        "outputId": "88f0e243-78cf-4669-a355-5d1c9f1863db"
      },
      "execution_count": null,
      "outputs": [
        {
          "output_type": "stream",
          "name": "stdout",
          "text": [
            "Остача від ділення: 17 % 3 = 2\n"
          ]
        }
      ]
    },
    {
      "cell_type": "code",
      "source": [
        "#Піднесення до степеня\n",
        "g = 2 ** 4\n",
        "print(f\"Піднесення до степеня: 2 ** 4 = {g}\")"
      ],
      "metadata": {
        "colab": {
          "base_uri": "https://localhost:8080/"
        },
        "id": "cV2c7xMEsPhr",
        "outputId": "609c0120-feeb-4cfa-c8c3-6b71228e47b9"
      },
      "execution_count": null,
      "outputs": [
        {
          "output_type": "stream",
          "name": "stdout",
          "text": [
            "Піднесення до степеня: 2 ** 4 = 16\n"
          ]
        }
      ]
    },
    {
      "cell_type": "code",
      "source": [
        "# Комбінування операцій\n",
        "h = (10 + 5)*2 / 3\n",
        "print(f\"Комбінована операція: (10 + 5) * 2 / 3 = {h}\")"
      ],
      "metadata": {
        "colab": {
          "base_uri": "https://localhost:8080/"
        },
        "id": "uGcl9H_BsXVD",
        "outputId": "93fb24e6-65e4-4028-ca7a-02f64b45f765"
      },
      "execution_count": null,
      "outputs": [
        {
          "output_type": "stream",
          "name": "stdout",
          "text": [
            "Комбінована операція: (10 + 5) * 2 / 3 = 10.0\n"
          ]
        }
      ]
    },
    {
      "cell_type": "code",
      "source": [
        "import math\n",
        "\n",
        "# 1. Базові математичні функції\n",
        "x = 25\n",
        "sqrt_x = math.sqrt(x)  # Квадратний корінь\n",
        "print(f\"Корінь з {x}: {sqrt_x}\")"
      ],
      "metadata": {
        "colab": {
          "base_uri": "https://localhost:8080/"
        },
        "id": "xePnOdpWwF6o",
        "outputId": "a1af9746-69eb-465d-ed18-eee8746ffa0f"
      },
      "execution_count": null,
      "outputs": [
        {
          "output_type": "stream",
          "name": "stdout",
          "text": [
            "Корінь з 25: 5.0\n"
          ]
        }
      ]
    },
    {
      "cell_type": "markdown",
      "source": [
        "**Математичні функції**"
      ],
      "metadata": {
        "id": "tH30AQtZYyUF"
      }
    },
    {
      "cell_type": "code",
      "source": [
        "import math\n",
        "\n",
        "# 1. Базові математичні функції\n",
        "x = 16\n",
        "sqrt_x = math.sqrt(x)  # Квадратний корінь\n",
        "print(f\"Корінь з {x}: {sqrt_x}\")\n",
        "\n",
        "x = -42\n",
        "abs_x = abs(x)  # Модуль числа\n",
        "print(f\"Модуль числа {x}: {abs_x}\")\n",
        "\n",
        "# 2. Тригонометричні функції (кути в радіанах)\n",
        "angle = math.pi / 6  # 30 градусів\n",
        "sin_x = math.sin(angle)\n",
        "cos_x = math.cos(angle)\n",
        "tan_x = math.tan(angle)\n",
        "print(f\"sin(π/6): {sin_x:.2f}\")\n",
        "print(f\"cos(π/6): {cos_x:.2f}\")\n",
        "print(f\"tan(π/6): {tan_x:.2f}\")\n",
        "\n",
        "# 3. Константи\n",
        "print(f\"π (pi): {math.pi}\")\n",
        "print(f\"e: {math.e}\")\n",
        "\n",
        "# 4. Округлення\n",
        "x = 3.7\n",
        "rounded = round(x)      # Звичайне округлення\n",
        "floor_x = math.floor(x) # Округлення вниз\n",
        "ceil_x = math.ceil(x)   # Округлення вгору\n",
        "print(f\"round({x}): {rounded}\")\n",
        "print(f\"floor({x}): {floor_x}\")\n",
        "print(f\"ceil({x}): {ceil_x}\")\n",
        "\n",
        "# 5. Степеневі та логарифмічні функції\n",
        "x = 2\n",
        "power = math.pow(x, 3)     # Піднесення до степеня\n",
        "log_natural = math.log(x)  # Натуральний логарифм\n",
        "log10 = math.log10(x)      # Логарифм за основою 10\n",
        "print(f\"{x}^3: {power}\")\n",
        "print(f\"ln({x}): {log_natural:.2f}\")\n",
        "print(f\"log10({x}): {log10:.2f}\")\n",
        "\n",
        "# 6. Факторіал та комбінаторика\n",
        "n = 5\n",
        "factorial = math.factorial(n)  # Факторіал\n",
        "print(f\"{n}!: {factorial}\")\n",
        "\n",
        "# 7. Гіперболічні функції\n",
        "x = 1\n",
        "sinh_x = math.sinh(x)  # Гіперболічний синус\n",
        "cosh_x = math.cosh(x)  # Гіперболічний косинус\n",
        "tanh_x = math.tanh(x)  # Гіперболічний тангенс\n",
        "print(f\"sinh({x}): {sinh_x:.2f}\")\n",
        "print(f\"cosh({x}): {cosh_x:.2f}\")\n",
        "print(f\"tanh({x}): {tanh_x:.2f}\")\n",
        "\n",
        "# 8. Кутові перетворення\n",
        "degrees = 180\n",
        "radians = math.radians(degrees)  # Градуси в радіани\n",
        "degrees_back = math.degrees(radians)  # Радіани в градуси\n",
        "print(f\"{degrees}° в радіанах: {radians}\")\n",
        "print(f\"{radians} радіан в градусах: {degrees_back}\")"
      ],
      "metadata": {
        "id": "HqMT5HjSThQ5"
      },
      "execution_count": null,
      "outputs": []
    },
    {
      "cell_type": "code",
      "source": [
        "d = 15 / 3\n",
        "d"
      ],
      "metadata": {
        "colab": {
          "base_uri": "https://localhost:8080/"
        },
        "id": "ZwPRY3ihUk5M",
        "outputId": "2c67a831-49e4-4eef-a68d-ff55a83c4402"
      },
      "execution_count": null,
      "outputs": [
        {
          "output_type": "execute_result",
          "data": {
            "text/plain": [
              "5.0"
            ]
          },
          "metadata": {},
          "execution_count": 2
        }
      ]
    },
    {
      "cell_type": "markdown",
      "source": [
        "**Порівняння в Python**"
      ],
      "metadata": {
        "id": "Agt4U_27Y6Zb"
      }
    },
    {
      "cell_type": "code",
      "source": [
        "# 1. Порівняння чисел\n",
        "a = 10\n",
        "b = 5\n",
        "\n",
        "# Більше (>)\n",
        "result = a > b\n",
        "print(f\"{a} > {b}: {result}\")\n",
        "\n",
        "# Менше (<)\n",
        "result = a < b\n",
        "print(f\"{a} < {b}: {result}\")\n",
        "\n",
        "# Більше або дорівнює (>=)\n",
        "result = a >= b\n",
        "print(f\"{a} >= {b}: {result}\")\n",
        "\n",
        "# Менше або дорівнює (<=)\n",
        "result = a <= b\n",
        "print(f\"{a} <= {b}: {result}\")\n",
        "# Дорівнює (==)\n",
        "result = a == b\n",
        "print(f\"{a} == {b}: {result}\")\n",
        "\n",
        "# Не дорівнює (!=)\n",
        "result = a != b\n",
        "print(f\"{a} != {b}: {result}\")\n",
        "# 2. Порівняння рядків\n",
        "str1 = \"hello\"\n",
        "str2 = \"world\"\n",
        "\n",
        "print(f\"'{str1}' == '{str2}': {str1 == str2}\")\n",
        "print(f\"'{str1}' < '{str2}': {str1 < str2}\")\n",
        "\n",
        "# 3. Множинні порівняння\n",
        "x = 5\n",
        "result = 1 < x < 10  # Перевірка чи x знаходиться між 1 та 10\n",
        "print(f\"1 < {x} < 10: {result}\")\n",
        "\n",
        "# 4. Порівняння з None\n",
        "value = None\n",
        "print(f\"value is None: {value is None}\")\n",
        "print(f\"value == None: {value == None}\")\n",
        "\n",
        "# 5. Порівняння списків\n",
        "list1 = [1, 2, 3]\n",
        "list2 = [1, 2, 3]\n",
        "list3 = [1, 2, 4]\n",
        "\n",
        "print(f\"list1 == list2: {list1 == list2}\")\n",
        "print(f\"list1 == list3: {list1 == list3}\")\n",
        "print(f\"list1 < list3: {list1 < list3}\")\n",
        "\n",
        "# 6. Практичний приклад з умовними операторами\n",
        "age = 18\n",
        "if age >= 18:\n",
        "    print(\"Повнолітній\")\n",
        "else:\n",
        "    print(\"Неповнолітній\")\n",
        "\n",
        "# 7. Перевірка діапазону\n",
        "temperature = 25\n",
        "is_comfortable = 20 <= temperature <= 25\n",
        "print(f\"Комфортна температура: {is_comfortable}\")  # Результат: True"
      ],
      "metadata": {
        "id": "spcYb1N5VWlh"
      },
      "execution_count": null,
      "outputs": []
    },
    {
      "cell_type": "code",
      "source": [],
      "metadata": {
        "id": "CGzrxQWLXcK5"
      },
      "execution_count": null,
      "outputs": []
    }
  ]
}