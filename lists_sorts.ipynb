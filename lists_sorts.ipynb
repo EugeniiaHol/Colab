{
  "nbformat": 4,
  "nbformat_minor": 0,
  "metadata": {
    "colab": {
      "provenance": [],
      "authorship_tag": "ABX9TyOU8QE4uRYEBhRyIAj1PyLa",
      "include_colab_link": true
    },
    "kernelspec": {
      "name": "python3",
      "display_name": "Python 3"
    },
    "language_info": {
      "name": "python"
    }
  },
  "cells": [
    {
      "cell_type": "markdown",
      "metadata": {
        "id": "view-in-github",
        "colab_type": "text"
      },
      "source": [
        "<a href=\"https://colab.research.google.com/github/EugeniiaHol/Colab/blob/main/lists_sorts.ipynb\" target=\"_parent\"><img src=\"https://colab.research.google.com/assets/colab-badge.svg\" alt=\"Open In Colab\"/></a>"
      ]
    },
    {
      "cell_type": "markdown",
      "source": [
        "# **1. Введення списку**"
      ],
      "metadata": {
        "id": "1KHG-1NnfKOQ"
      }
    },
    {
      "cell_type": "markdown",
      "source": [
        "Створення списку з числами"
      ],
      "metadata": {
        "id": "Q04SHXxofTu4"
      }
    },
    {
      "cell_type": "code",
      "source": [
        "n = [1, 2, 3, 4, 5]\n",
        "n"
      ],
      "metadata": {
        "colab": {
          "base_uri": "https://localhost:8080/"
        },
        "id": "VQPfd0v0fWgY",
        "outputId": "b0af1558-1f37-4729-dc7b-6c3ded6e39e2"
      },
      "execution_count": 1,
      "outputs": [
        {
          "output_type": "execute_result",
          "data": {
            "text/plain": [
              "[1, 2, 3, 4, 5]"
            ]
          },
          "metadata": {},
          "execution_count": 1
        }
      ]
    },
    {
      "cell_type": "markdown",
      "source": [
        "Створення списку з рядками"
      ],
      "metadata": {
        "id": "XT-7tap5ffDS"
      }
    },
    {
      "cell_type": "code",
      "source": [
        "f = ['apple', 'banana', 'cherry']\n",
        "f"
      ],
      "metadata": {
        "colab": {
          "base_uri": "https://localhost:8080/"
        },
        "id": "nFNkB-vSfhdK",
        "outputId": "a3511ac8-c171-424f-f064-6a805e087640"
      },
      "execution_count": 2,
      "outputs": [
        {
          "output_type": "execute_result",
          "data": {
            "text/plain": [
              "['apple', 'banana', 'cherry']"
            ]
          },
          "metadata": {},
          "execution_count": 2
        }
      ]
    },
    {
      "cell_type": "markdown",
      "source": [
        "Створення змішаного списку"
      ],
      "metadata": {
        "id": "dDomb1Bofn9f"
      }
    },
    {
      "cell_type": "code",
      "source": [
        "m = [1, 'two', 3.0, [4, 5]]\n",
        "m"
      ],
      "metadata": {
        "colab": {
          "base_uri": "https://localhost:8080/"
        },
        "id": "aEDRDRIhfrKx",
        "outputId": "4c93c32e-cbdc-40c4-aae8-81ea60beb49f"
      },
      "execution_count": 3,
      "outputs": [
        {
          "output_type": "execute_result",
          "data": {
            "text/plain": [
              "[1, 'two', 3.0, [4, 5]]"
            ]
          },
          "metadata": {},
          "execution_count": 3
        }
      ]
    },
    {
      "cell_type": "markdown",
      "source": [
        "# **2. Введення списку від користувача**"
      ],
      "metadata": {
        "id": "rQGc1BXhf5by"
      }
    },
    {
      "cell_type": "markdown",
      "source": [
        "Запитуємо у користувача введення чисел, розділених пробілами"
      ],
      "metadata": {
        "id": "5t97f8BHgBhG"
      }
    },
    {
      "cell_type": "code",
      "source": [
        "u = input(\"Введіть числа через пробіл: \")\n",
        "u"
      ],
      "metadata": {
        "colab": {
          "base_uri": "https://localhost:8080/",
          "height": 52
        },
        "id": "80abQpMZgA92",
        "outputId": "66a3e953-70be-46b5-fec5-b9bafeaf4a01"
      },
      "execution_count": 4,
      "outputs": [
        {
          "name": "stdout",
          "output_type": "stream",
          "text": [
            "Введіть числа через пробіл: 2 3 5 6 8 \n"
          ]
        },
        {
          "output_type": "execute_result",
          "data": {
            "text/plain": [
              "'2 3 5 6 8 '"
            ],
            "application/vnd.google.colaboratory.intrinsic+json": {
              "type": "string"
            }
          },
          "metadata": {},
          "execution_count": 4
        }
      ]
    },
    {
      "cell_type": "markdown",
      "source": [
        "Розбиваємо рядок на окремі частини"
      ],
      "metadata": {
        "id": "15gSznDegahF"
      }
    },
    {
      "cell_type": "code",
      "source": [
        "s = u.split()\n",
        "s"
      ],
      "metadata": {
        "colab": {
          "base_uri": "https://localhost:8080/"
        },
        "id": "GvJbtYp-gbfC",
        "outputId": "669b0271-aec6-41d0-80dc-e0b62f13fd38"
      },
      "execution_count": 7,
      "outputs": [
        {
          "output_type": "execute_result",
          "data": {
            "text/plain": [
              "['2', '3', '5', '6', '8']"
            ]
          },
          "metadata": {},
          "execution_count": 7
        }
      ]
    },
    {
      "cell_type": "markdown",
      "source": [
        "Перетворюємо кожен елемент на ціле число"
      ],
      "metadata": {
        "id": "-UJO_8K-gom6"
      }
    },
    {
      "cell_type": "code",
      "source": [
        "n = [int(i) for i in s]\n",
        "print(\"Введений список чисел:\", n)"
      ],
      "metadata": {
        "colab": {
          "base_uri": "https://localhost:8080/"
        },
        "id": "ExHNz3t0hy6b",
        "outputId": "0cbad196-3c59-4258-9861-095f86203cd1"
      },
      "execution_count": 8,
      "outputs": [
        {
          "output_type": "stream",
          "name": "stdout",
          "text": [
            "Введений список чисел: [2, 3, 5, 6, 8]\n"
          ]
        }
      ]
    },
    {
      "cell_type": "markdown",
      "source": [
        "# **3. Введення масивів**"
      ],
      "metadata": {
        "id": "s2J5hznswE5e"
      }
    },
    {
      "cell_type": "markdown",
      "source": [
        "Створення масиву цілих чисел (обов'язково треба імпортувати відповідну бібліотеку)"
      ],
      "metadata": {
        "id": "dtblt51hwUTb"
      }
    },
    {
      "cell_type": "code",
      "source": [
        "import array\n",
        "ar = array.array('i', [1, 2, 3, 4, 5])\n",
        "for number in ar:\n",
        "    print(number)"
      ],
      "metadata": {
        "colab": {
          "base_uri": "https://localhost:8080/"
        },
        "id": "Y5WbXALewIUs",
        "outputId": "7334d151-639c-4ff9-f043-ab776f8664de"
      },
      "execution_count": 12,
      "outputs": [
        {
          "output_type": "stream",
          "name": "stdout",
          "text": [
            "1\n",
            "2\n",
            "3\n",
            "4\n",
            "5\n"
          ]
        }
      ]
    },
    {
      "cell_type": "markdown",
      "source": [
        "# **4. Сортування в списках та масивах**"
      ],
      "metadata": {
        "id": "L-5LSoWnmXl3"
      }
    },
    {
      "cell_type": "markdown",
      "source": [
        "Сортування списку за збільшенням за замовчуванням"
      ],
      "metadata": {
        "id": "7Y14Qv2lm8B0"
      }
    },
    {
      "cell_type": "code",
      "source": [
        "num = [30, 17, 73, 47, 22, 11, 65, 54]\n",
        "num.sort()\n",
        "print(\"Відсортований список:\", num)"
      ],
      "metadata": {
        "colab": {
          "base_uri": "https://localhost:8080/"
        },
        "id": "z9n--zgamghp",
        "outputId": "fd3dc1a2-551c-4e37-ea22-8c68f721b26c"
      },
      "execution_count": 9,
      "outputs": [
        {
          "output_type": "stream",
          "name": "stdout",
          "text": [
            "Відсортований список: [11, 17, 22, 30, 47, 54, 65, 73]\n"
          ]
        }
      ]
    },
    {
      "cell_type": "markdown",
      "source": [
        "Організація сортування за зменшенням"
      ],
      "metadata": {
        "id": "B4kT7o6wmqAs"
      }
    },
    {
      "cell_type": "code",
      "source": [
        "num.sort(reverse=True)\n",
        "print(\"Відсортований список за спаданням:\", num)"
      ],
      "metadata": {
        "colab": {
          "base_uri": "https://localhost:8080/"
        },
        "id": "hKdUz7C3mbGm",
        "outputId": "d6e1e4d3-e6c4-4adc-e971-3959c559942b"
      },
      "execution_count": 10,
      "outputs": [
        {
          "output_type": "stream",
          "name": "stdout",
          "text": [
            "Відсортований список за спаданням: [73, 65, 54, 47, 30, 22, 17, 11]\n"
          ]
        }
      ]
    },
    {
      "cell_type": "markdown",
      "source": [
        "## **Використання sorted() (створює новий відсортований список)**"
      ],
      "metadata": {
        "id": "r2odu18Zmbrc"
      }
    },
    {
      "cell_type": "code",
      "source": [
        "num = [30, 17, 73, 47, 22, 11, 65, 54]\n",
        "s_num = sorted(num)\n",
        "print(\"Новий відсортований список:\", s_num)\n",
        "print(\"Оригінальний список:\", num)"
      ],
      "metadata": {
        "colab": {
          "base_uri": "https://localhost:8080/"
        },
        "id": "py3m33srncQz",
        "outputId": "2622bdca-f084-4993-f761-ac9875288c72"
      },
      "execution_count": 11,
      "outputs": [
        {
          "output_type": "stream",
          "name": "stdout",
          "text": [
            "Новий відсортований список: [11, 17, 22, 30, 47, 54, 65, 73]\n",
            "Оригінальний список: [30, 17, 73, 47, 22, 11, 65, 54]\n"
          ]
        }
      ]
    },
    {
      "cell_type": "markdown",
      "source": [],
      "metadata": {
        "id": "sflBM0snx9rv"
      }
    },
    {
      "cell_type": "markdown",
      "source": [
        "## **Використання sorted() для масиву**"
      ],
      "metadata": {
        "id": "-d9HbJTJyWSJ"
      }
    },
    {
      "cell_type": "code",
      "source": [
        "import array\n",
        "numb = array.array('i', [5, 2, 9, 1, 5, 6])\n",
        "sorted_numb = sorted(numb)\n",
        "sorted_ar = array.array('i', sorted_numb)\n",
        "print(\"Відсортований масив:\", sorted_ar)\n",
        "print(\"Не відсортований масив:\", numb)"
      ],
      "metadata": {
        "colab": {
          "base_uri": "https://localhost:8080/"
        },
        "id": "-0P6pLgxyVC5",
        "outputId": "a1c414d0-1dc5-4f1c-aaa6-3fabacee7b46"
      },
      "execution_count": 15,
      "outputs": [
        {
          "output_type": "stream",
          "name": "stdout",
          "text": [
            "Відсортований масив: array('i', [1, 2, 5, 5, 6, 9])\n",
            "Не відсортований масив: array('i', [5, 2, 9, 1, 5, 6])\n"
          ]
        }
      ]
    },
    {
      "cell_type": "markdown",
      "source": [
        "# **5. Сортування вибором (Selection Sort) працює за таким принципом:**"
      ],
      "metadata": {
        "id": "8OWxW6nS3Mg8"
      }
    },
    {
      "cell_type": "markdown",
      "source": [
        "Код на основі List"
      ],
      "metadata": {
        "id": "Itbrj8bt4pOz"
      }
    },
    {
      "cell_type": "code",
      "source": [
        "numbers = [30, 17, 73, 47, 22, 11, 65, 54]\n",
        "print(\"Не відсортований список:\", numbers)\n",
        "\n",
        "n = len(numbers)\n",
        "for i in range(n - 1):\n",
        "    min_index = i\n",
        "    for j in range(i + 1, n):\n",
        "        if numbers[j] < numbers[min_index]:\n",
        "            min_index = j\n",
        "    numbers[i], numbers[min_index] = numbers[min_index], numbers[i]\n",
        "\n",
        "print(\"Відсортований список:\", numbers)\n",
        "\n"
      ],
      "metadata": {
        "colab": {
          "base_uri": "https://localhost:8080/"
        },
        "id": "IJbAVuUJ3tCd",
        "outputId": "3adc3542-88fe-4b71-8a10-c21cedcfb3bc"
      },
      "execution_count": 16,
      "outputs": [
        {
          "output_type": "stream",
          "name": "stdout",
          "text": [
            "Не відсортований список: [30, 17, 73, 47, 22, 11, 65, 54]\n",
            "Відсортований список: [11, 17, 22, 30, 47, 54, 65, 73]\n"
          ]
        }
      ]
    },
    {
      "cell_type": "markdown",
      "source": [
        "Код на основі array"
      ],
      "metadata": {
        "id": "gC1aQUvX4xNj"
      }
    },
    {
      "cell_type": "code",
      "source": [
        "from array import array\n",
        "numbers = array('i', [30, 17, 73, 47, 22, 11, 65, 54])\n",
        "print(\"Не відсортований масив:\", numbers)\n",
        "\n",
        "n = len(numbers)\n",
        "for i in range(n - 1):\n",
        "    min_index = i\n",
        "    for j in range(i + 1, n):\n",
        "        if numbers[j] < numbers[min_index]:\n",
        "            min_index = j\n",
        "    numbers[i], numbers[min_index] = numbers[min_index], numbers[i]\n",
        "\n",
        "print(\"Відсортований масив:\", numbers)\n"
      ],
      "metadata": {
        "colab": {
          "base_uri": "https://localhost:8080/"
        },
        "id": "L1-sImM242a-",
        "outputId": "3f7b86b1-5dd5-4780-e721-948baf1fc7ff"
      },
      "execution_count": 17,
      "outputs": [
        {
          "output_type": "stream",
          "name": "stdout",
          "text": [
            "Не відсортований масив: array('i', [30, 17, 73, 47, 22, 11, 65, 54])\n",
            "Відсортований масив: array('i', [11, 17, 22, 30, 47, 54, 65, 73])\n"
          ]
        }
      ]
    },
    {
      "cell_type": "markdown",
      "source": [
        "# **6. Сортування вставками (Insertion Sort)**"
      ],
      "metadata": {
        "id": "pupn8nhv6mpP"
      }
    },
    {
      "cell_type": "markdown",
      "source": [
        "Код на основі List"
      ],
      "metadata": {
        "id": "r3dvW6pw69Ke"
      }
    },
    {
      "cell_type": "code",
      "source": [
        "num = [30, 17, 73, 47, 22, 11, 65, 54]\n",
        "print(\"Не відсортований список:\", numbers)\n",
        "\n",
        "for i in range(1, len(numbers)):\n",
        "    key = num[i]  # Ключовий елемент, який потрібно вставити у впорядковану частину\n",
        "    j = i - 1\n",
        "    while j >= 0 and num[j] > key: # Порівнюємо key з попередніми елементами у впорядкованій частині\n",
        "        num[j + 1] = num[j]  # і зсуваємо їх вправо, поки вони більші за key\n",
        "        j -= 1\n",
        "    num[j + 1] = key # Вставляємо key на знайдену позицію\n",
        "\n",
        "print(\"Відсортований список:\", num)\n"
      ],
      "metadata": {
        "colab": {
          "base_uri": "https://localhost:8080/"
        },
        "id": "DtsRaTbn6rxc",
        "outputId": "b8bd3c3a-dd05-44ea-8bad-72a34b7b3211"
      },
      "execution_count": 18,
      "outputs": [
        {
          "output_type": "stream",
          "name": "stdout",
          "text": [
            "Не відсортований список: array('i', [11, 17, 22, 30, 47, 54, 65, 73])\n",
            "Відсортований список: [11, 17, 22, 30, 47, 54, 65, 73]\n"
          ]
        }
      ]
    },
    {
      "cell_type": "markdown",
      "source": [
        "Код на основі array"
      ],
      "metadata": {
        "id": "i9IbgfYg79_X"
      }
    },
    {
      "cell_type": "code",
      "source": [
        "from array import array\n",
        "numbers = array('i', [30, 17, 73, 47, 22, 11, 65, 54])\n",
        "print(\"Не відсортований масив:\", numbers)\n",
        "\n",
        "for i in range(1, len(numbers)):\n",
        "    key = numbers[i]\n",
        "    j = i - 1\n",
        "\n",
        "    while j >= 0 and numbers[j] > key:\n",
        "        numbers[j + 1] = numbers[j]\n",
        "        j -= 1\n",
        "\n",
        "    numbers[j + 1] = key\n",
        "\n",
        "print(\"Відсортований масив:\", numbers)\n"
      ],
      "metadata": {
        "id": "N1Z1tqYQ7zKx"
      },
      "execution_count": null,
      "outputs": []
    },
    {
      "cell_type": "markdown",
      "source": [
        "# **7. Сортування** обміном (Бульбашкове сортування, Bubble Sort)"
      ],
      "metadata": {
        "id": "ZKr-aCzF9Dmu"
      }
    },
    {
      "cell_type": "markdown",
      "source": [
        "Реалізація на списках"
      ],
      "metadata": {
        "id": "eM-LGjRb9PHH"
      }
    },
    {
      "cell_type": "code",
      "source": [
        "numbers = [30, 17, 73, 47, 22, 11, 65, 54]\n",
        "print(\"Не відсортований список:\", numbers)\n",
        "\n",
        "n = len(numbers)\n",
        "for i in range(n):\n",
        "    swapped = False # Флаг для перевірки, чи відбувся обмін\n",
        "    for j in range(0, n-i-1): # Внутрішній цикл для порівняння сусідніх елементів\n",
        "        if numbers[j] > numbers[j+1]: # Якщо елементи не в правильному порядку — міняємо місцями\n",
        "            numbers[j], numbers[j+1] = numbers[j+1], numbers[j]\n",
        "            swapped = True\n",
        "    if not swapped: # Якщо за одну ітерацію не було обмінів — масив вже відсортований\n",
        "        break\n",
        "\n",
        "print(\"Відсортований список:\", numbers)\n"
      ],
      "metadata": {
        "colab": {
          "base_uri": "https://localhost:8080/"
        },
        "id": "rk_hrs6O9ODA",
        "outputId": "28e09580-c2a6-4d9c-f1e5-907e999920b8"
      },
      "execution_count": 19,
      "outputs": [
        {
          "output_type": "stream",
          "name": "stdout",
          "text": [
            "Не відсортований список: [30, 17, 73, 47, 22, 11, 65, 54]\n",
            "Відсортований список: [11, 17, 22, 30, 47, 54, 65, 73]\n"
          ]
        }
      ]
    },
    {
      "cell_type": "markdown",
      "source": [
        "Реалізація на масивах"
      ],
      "metadata": {
        "id": "Bmx4GWYr9xyO"
      }
    },
    {
      "cell_type": "code",
      "source": [
        "from array import array\n",
        "numbers = array('i', [30, 17, 73, 47, 22, 11, 65, 54])\n",
        "print(\"Не відсортований масив:\", numbers)\n",
        "\n",
        "n = len(numbers)\n",
        "for i in range(n):\n",
        "    swapped = False\n",
        "    for j in range(0, n-i-1):\n",
        "        if numbers[j] > numbers[j+1]:\n",
        "            numbers[j], numbers[j+1] = numbers[j+1], numbers[j]\n",
        "            swapped = True\n",
        "    if not swapped:\n",
        "        break\n",
        "\n",
        "print(\"Відсортований масив:\", numbers)\n"
      ],
      "metadata": {
        "colab": {
          "base_uri": "https://localhost:8080/"
        },
        "id": "AqNAlr0691QJ",
        "outputId": "1bcbfd28-a893-42df-a92e-9fe50cd88702"
      },
      "execution_count": 20,
      "outputs": [
        {
          "output_type": "stream",
          "name": "stdout",
          "text": [
            "Не відсортований масив: array('i', [30, 17, 73, 47, 22, 11, 65, 54])\n",
            "Відсортований масив: array('i', [11, 17, 22, 30, 47, 54, 65, 73])\n"
          ]
        }
      ]
    },
    {
      "cell_type": "markdown",
      "source": [],
      "metadata": {
        "id": "z3oKpWEpMUpX"
      }
    },
    {
      "cell_type": "markdown",
      "source": [
        "реалізація на списках"
      ],
      "metadata": {
        "id": "pn86Ca9yOCjH"
      }
    },
    {
      "cell_type": "code",
      "source": [
        "numbers = [30, 9, 73,98, 22, 11, 65, 54]\n",
        "print(\"Не відсортований список:\", numbers)\n",
        "max_value = max(numbers)\n",
        "min_value = min(numbers)\n",
        "range_of_elements = max_value - min_value + 1 #визначаємо діапазон значень\n",
        "count_ar = [0] * range_of_elements # формує допоміжний масив для підрахунку кількості входжень\n",
        "\n",
        "for num in numbers:\n",
        "    count_ar[num - min_value] += 1 # Підраховуємо кількість входжень кожного елемента\n",
        "\n",
        "for i in range(1, len(count_ar)):\n",
        "    count_ar[i] += count_ar[i - 1] # Кумулятивна сума для визначення індексів у відсортованому масиві\n",
        "\n",
        "sorted_ar = [0] * len(numbers) # створює відсортований масив\n",
        "\n",
        "# Відновлюємо відсортований масив\n",
        "for num in reversed(numbers):\n",
        "    sorted_ar[count_ar[num - min_value] - 1] = num\n",
        "    count_ar[num - min_value] -= 1\n",
        "\n",
        "print(\"Відсортований список:\", sorted_ar)\n"
      ],
      "metadata": {
        "colab": {
          "base_uri": "https://localhost:8080/"
        },
        "id": "sEf40CXuMVUe",
        "outputId": "740b6d91-3498-43db-cceb-778ec8ad07b6"
      },
      "execution_count": 24,
      "outputs": [
        {
          "output_type": "stream",
          "name": "stdout",
          "text": [
            "Не відсортований список: [30, 9, 73, 98, 22, 11, 65, 54]\n",
            "Відсортований список: [9, 11, 22, 30, 54, 65, 73, 98]\n"
          ]
        }
      ]
    },
    {
      "cell_type": "markdown",
      "source": [
        "реалізція на масивах"
      ],
      "metadata": {
        "id": "SUU2uyBZOGEZ"
      }
    },
    {
      "cell_type": "code",
      "source": [
        "from array import array\n",
        "numbers = array('i', [30, 41, 73, 47, 22, 11, 98, 54])\n",
        "print(\"Не відсортований масив:\", numbers)\n",
        "\n",
        "max_value = max(numbers)\n",
        "min_value = min(numbers)\n",
        "range_of_elements = max_value - min_value + 1\n",
        "\n",
        "count_ar = [0] * range_of_elements\n",
        "\n",
        "for num in numbers:\n",
        "    count_ar[num - min_value] += 1\n",
        "\n",
        "for i in range(1, len(count_ar)):\n",
        "    count_ar[i] += count_ar[i - 1]\n",
        "\n",
        "sorted_ar = array('i', [0] * len(numbers))\n",
        "\n",
        "for num in reversed(numbers):\n",
        "    sorted_ar[count_ar[num - min_value] - 1] = num\n",
        "    count_ar[num - min_value] -= 1\n",
        "\n",
        "print(\"Відсортований масив:\", sorted_ar)\n"
      ],
      "metadata": {
        "colab": {
          "base_uri": "https://localhost:8080/"
        },
        "id": "VpX_tyLeOJqS",
        "outputId": "32d9b89a-caac-4335-8cfb-e0b141f8b2a8"
      },
      "execution_count": 27,
      "outputs": [
        {
          "output_type": "stream",
          "name": "stdout",
          "text": [
            "Не відсортований масив: array('i', [30, 41, 73, 47, 22, 11, 98, 54])\n",
            "Відсортований масив: array('i', [11, 22, 30, 41, 47, 54, 73, 98])\n"
          ]
        }
      ]
    }
  ]
}